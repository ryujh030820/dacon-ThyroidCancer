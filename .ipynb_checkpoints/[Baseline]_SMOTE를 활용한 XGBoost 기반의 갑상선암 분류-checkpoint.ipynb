{
 "cells": [
  {
   "cell_type": "markdown",
   "id": "c9b809b8",
   "metadata": {},
   "source": [
    "### Import"
   ]
  },
  {
   "cell_type": "code",
   "execution_count": null,
   "id": "4a4fcce9",
   "metadata": {},
   "outputs": [],
   "source": [
    "import pandas as pd\n",
    "import numpy as np\n",
    "\n",
    "from sklearn.model_selection import train_test_split\n",
    "from sklearn.metrics import f1_score\n",
    "from sklearn.preprocessing import LabelEncoder\n",
    "from xgboost import XGBClassifier\n",
    "\n",
    "from imblearn.over_sampling import SMOTE"
   ]
  },
  {
   "cell_type": "markdown",
   "id": "c25fad32",
   "metadata": {},
   "source": [
    "### Data Load"
   ]
  },
  {
   "cell_type": "code",
   "execution_count": null,
   "id": "b55b54f2",
   "metadata": {},
   "outputs": [],
   "source": [
    "train = pd.read_csv('./train.csv')\n",
    "test = pd.read_csv('./test.csv')"
   ]
  },
  {
   "cell_type": "markdown",
   "id": "93cad6ac",
   "metadata": {},
   "source": [
    "### Data Preprocessing"
   ]
  },
  {
   "cell_type": "code",
   "execution_count": null,
   "id": "52802d20",
   "metadata": {},
   "outputs": [],
   "source": [
    "X = train.drop(columns=['ID', 'Cancer'])\n",
    "y = train['Cancer']\n",
    "\n",
    "x_test = test.drop('ID', axis=1)"
   ]
  },
  {
   "cell_type": "code",
   "execution_count": null,
   "id": "16bec09f",
   "metadata": {},
   "outputs": [],
   "source": [
    "categorical_features = [col for col in X.columns if X[col].dtype == 'object']\n",
    "for col in categorical_features:\n",
    "    le = LabelEncoder()\n",
    "    X[col] = le.fit_transform(X[col])\n",
    "    for val in np.unique(x_test[col]):\n",
    "        if val not in le.classes_:\n",
    "            le.classes_ = np.append(le.classes_, val)\n",
    "    x_test[col] = le.transform(x_test[col])"
   ]
  },
  {
   "cell_type": "markdown",
   "id": "19a8e889",
   "metadata": {},
   "source": [
    "### Train"
   ]
  },
  {
   "cell_type": "code",
   "execution_count": null,
   "id": "b194e72d",
   "metadata": {},
   "outputs": [],
   "source": [
    "X_train, X_val, y_train, y_val = train_test_split(X, y, stratify=y, test_size=0.2, random_state=42)"
   ]
  },
  {
   "cell_type": "code",
   "execution_count": null,
   "id": "a4f926a6",
   "metadata": {},
   "outputs": [],
   "source": [
    "def train_and_eval(X_tr, y_tr, X_val, y_val, label):\n",
    "    model = XGBClassifier(random_state=42)\n",
    "    model.fit(X_tr, y_tr)\n",
    "    y_pred = model.predict(X_val)\n",
    "    f1 = f1_score(y_val, y_pred)\n",
    "    print(f\"[{label}] Validation F1-score: {f1:.4f}\")\n",
    "    return model, f1"
   ]
  },
  {
   "cell_type": "code",
   "execution_count": null,
   "id": "4ee66a4d",
   "metadata": {},
   "outputs": [],
   "source": [
    "# (1) SMOTE 미적용\n",
    "model_raw, f1_raw = train_and_eval(X_train, y_train, X_val, y_val, \"RAW\")\n",
    "\n",
    "# (2) SMOTE 적용\n",
    "smote = SMOTE(random_state=42)\n",
    "X_train_smote, y_train_smote = smote.fit_resample(X_train, y_train)\n",
    "model_smote, f1_smote = train_and_eval(X_train_smote, y_train_smote, X_val, y_val, \"SMOTE\")"
   ]
  },
  {
   "cell_type": "code",
   "execution_count": null,
   "id": "253df739",
   "metadata": {},
   "outputs": [],
   "source": [
    "# SMOTE 적용 여부에 따라 최종 학습 데이터 구성\n",
    "if f1_smote >= f1_raw:\n",
    "    smote_full = SMOTE(random_state=42)\n",
    "    X_final, y_final = smote_full.fit_resample(X, y)\n",
    "else:\n",
    "    X_final, y_final = X, y\n",
    "\n",
    "# 최종 모델 학습\n",
    "final_model = XGBClassifier(random_state=42)\n",
    "final_model.fit(X_final, y_final)\n"
   ]
  },
  {
   "cell_type": "markdown",
   "id": "1b5776c3",
   "metadata": {},
   "source": [
    "### Predict"
   ]
  },
  {
   "cell_type": "code",
   "execution_count": null,
   "id": "46515849",
   "metadata": {},
   "outputs": [],
   "source": [
    "final_pred = final_model.predict(x_test)"
   ]
  },
  {
   "cell_type": "markdown",
   "id": "dcf4bc31",
   "metadata": {},
   "source": [
    "### Submission"
   ]
  },
  {
   "cell_type": "code",
   "execution_count": null,
   "id": "74f29643",
   "metadata": {},
   "outputs": [],
   "source": [
    "submission = pd.read_csv('sample_submission.csv')"
   ]
  },
  {
   "cell_type": "code",
   "execution_count": null,
   "id": "62da6a15",
   "metadata": {},
   "outputs": [],
   "source": [
    "submission['Cancer'] = final_pred"
   ]
  },
  {
   "cell_type": "code",
   "execution_count": null,
   "id": "ba02f804",
   "metadata": {},
   "outputs": [],
   "source": [
    "submission.to_csv('baseline_submit.csv', index=False)"
   ]
  }
 ],
 "metadata": {
  "kernelspec": {
   "display_name": "soowoong",
   "language": "python",
   "name": "python3"
  },
  "language_info": {
   "codemirror_mode": {
    "name": "ipython",
    "version": 3
   },
   "file_extension": ".py",
   "mimetype": "text/x-python",
   "name": "python",
   "nbconvert_exporter": "python",
   "pygments_lexer": "ipython3",
   "version": "3.8.13"
  }
 },
 "nbformat": 4,
 "nbformat_minor": 5
}
